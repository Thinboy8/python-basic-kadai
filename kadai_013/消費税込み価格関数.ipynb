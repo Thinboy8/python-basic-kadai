{
  "nbformat": 4,
  "nbformat_minor": 0,
  "metadata": {
    "colab": {
      "provenance": []
    },
    "kernelspec": {
      "name": "python3",
      "display_name": "Python 3"
    },
    "language_info": {
      "name": "python"
    }
  },
  "cells": [
    {
      "cell_type": "code",
      "execution_count": 1,
      "metadata": {
        "colab": {
          "base_uri": "https://localhost:8080/"
        },
        "id": "_wRtTilUkLrW",
        "outputId": "5bea1693-e38d-4885-8c34-29320c5313a1"
      },
      "outputs": [
        {
          "output_type": "stream",
          "name": "stdout",
          "text": [
            "おはようございます！\n",
            "昨日はよくねむれましたか？\n",
            "今日も一日頑張りましょう！\n",
            "こんばんは！\n",
            "今日も一日お疲れさまでした。\n"
          ]
        }
      ],
      "source": [
        "def say_good_morning():\n",
        "  print(\"おはようございます！\")\n",
        "  print(\"昨日はよくねむれましたか？\")\n",
        "  print(\"今日も一日頑張りましょう！\")\n",
        "\n",
        "def say_good_evening():\n",
        "  print(\"こんばんは！\")\n",
        "  print(\"今日も一日お疲れさまでした。\")\n",
        "\n",
        "say_good_morning()\n",
        "\n",
        "say_good_evening()"
      ]
    },
    {
      "cell_type": "code",
      "source": [
        "def calculate_total(price):\n",
        "\n",
        "  total = price + 500\n",
        "\n",
        "  print(f\"{total}円\")\n",
        "\n",
        "calculate_total(1200)"
      ],
      "metadata": {
        "colab": {
          "base_uri": "https://localhost:8080/"
        },
        "id": "WqTVtZeGmdJE",
        "outputId": "c43153f4-9d24-4219-e064-0370e0a023ea"
      },
      "execution_count": 2,
      "outputs": [
        {
          "output_type": "stream",
          "name": "stdout",
          "text": [
            "1700円\n"
          ]
        }
      ]
    },
    {
      "cell_type": "code",
      "source": [
        "def add_two_arguments(price, shipping_fee):\n",
        "\n",
        "  total = price + shipping_fee\n",
        "\n",
        "  print(f\"{total}円\")\n",
        "\n",
        "add_two_arguments(1200, 500)"
      ],
      "metadata": {
        "colab": {
          "base_uri": "https://localhost:8080/"
        },
        "id": "0N2uLHa3m9SR",
        "outputId": "ce72b5aa-f27f-4921-868f-0d33b5ed514b"
      },
      "execution_count": 5,
      "outputs": [
        {
          "output_type": "stream",
          "name": "stdout",
          "text": [
            "1700円\n"
          ]
        }
      ]
    },
    {
      "cell_type": "code",
      "source": [
        "purchased = True\n",
        "\n",
        "def is_purchased():\n",
        "  if (purchased):\n",
        "    return True\n",
        "  else:\n",
        "    return False\n",
        "\n",
        "if (is_purchased()):\n",
        "  print(\"商品は購入済みです。\")"
      ],
      "metadata": {
        "colab": {
          "base_uri": "https://localhost:8080/"
        },
        "id": "PPZgEMWQoDQm",
        "outputId": "fc6c4065-09c0-445a-f19f-b719db378021"
      },
      "execution_count": 8,
      "outputs": [
        {
          "output_type": "stream",
          "name": "stdout",
          "text": [
            "商品は購入済みです。\n"
          ]
        }
      ]
    },
    {
      "cell_type": "code",
      "source": [
        "def double(num):\n",
        "  return num * 2\n",
        "\n",
        "result = double(4)\n",
        "print(result)"
      ],
      "metadata": {
        "colab": {
          "base_uri": "https://localhost:8080/"
        },
        "id": "iHxFg0_qpKuI",
        "outputId": "e7545796-adb0-4045-cfbc-649bb0bf4063"
      },
      "execution_count": 13,
      "outputs": [
        {
          "output_type": "stream",
          "name": "stdout",
          "text": [
            "8\n"
          ]
        }
      ]
    },
    {
      "cell_type": "code",
      "source": [
        "def calculate_total_incliding_tax(price, tax_rate):\n",
        "\n",
        "  calculate_total_incliding_tax = price * (1 + tax_rate)\n",
        "  return calculate_total_incliding_tax\n",
        "\n",
        "result = calculate_total_incliding_tax(3661, 0.1)\n",
        "print(f\"{result}円\")"
      ],
      "metadata": {
        "colab": {
          "base_uri": "https://localhost:8080/"
        },
        "id": "A0kdqdbetyKL",
        "outputId": "6a09644f-5018-42b0-80e6-fd33a28c8efe"
      },
      "execution_count": 8,
      "outputs": [
        {
          "output_type": "stream",
          "name": "stdout",
          "text": [
            "4027.1000000000004円\n"
          ]
        }
      ]
    },
    {
      "cell_type": "code",
      "source": [
        "def calculate_total_incliding_tax(price, tax_rate):\n",
        "\n",
        "  total = price * (1 + tax_rate)\n",
        "  return total\n",
        "\n",
        "result = calculate_total_incliding_tax(3661, 0.1)\n",
        "print(f\"{result}円\")"
      ],
      "metadata": {
        "colab": {
          "base_uri": "https://localhost:8080/"
        },
        "id": "6sjgFs6Pj_cm",
        "outputId": "b1d16fad-21d4-4e34-da5e-d6985c27951c"
      },
      "execution_count": 7,
      "outputs": [
        {
          "output_type": "stream",
          "name": "stdout",
          "text": [
            "4027.1000000000004円\n"
          ]
        }
      ]
    }
  ]
}