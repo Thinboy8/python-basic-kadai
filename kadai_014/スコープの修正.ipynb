{
  "nbformat": 4,
  "nbformat_minor": 0,
  "metadata": {
    "colab": {
      "provenance": []
    },
    "kernelspec": {
      "name": "python3",
      "display_name": "Python 3"
    },
    "language_info": {
      "name": "python"
    }
  },
  "cells": [
    {
      "cell_type": "code",
      "execution_count": 2,
      "metadata": {
        "colab": {
          "base_uri": "https://localhost:8080/"
        },
        "id": "Wt_uj-tmGrCG",
        "outputId": "dd02c468-a135-4f41-ce79-e65ee2d270a6"
      },
      "outputs": [
        {
          "output_type": "stream",
          "name": "stdout",
          "text": [
            "侍太郎\n"
          ]
        }
      ],
      "source": [
        "def show_user_name():\n",
        "  # ローカル変数を定義する\n",
        "  user_name = \"侍太郎\"\n",
        "\n",
        "  # ローカルスコープの範囲内でローカル変数を使う\n",
        "  print(user_name)\n",
        "\n",
        "show_user_name()\n"
      ]
    },
    {
      "cell_type": "code",
      "source": [
        "def show_user_name():\n",
        "  # ローカル変数を定義する\n",
        "  user_name = \"侍太郎\"\n",
        "\n",
        "  # ローカルスコープの範囲内でローカル変数を使う\n",
        "  print(user_name)\n",
        "\n",
        "show_user_name()\n",
        "\n",
        "# ローカルスコープの範囲外でローカル変数を使う（エラーが発生する）\n",
        "print(user_name)"
      ],
      "metadata": {
        "colab": {
          "base_uri": "https://localhost:8080/",
          "height": 193
        },
        "id": "AACfWzFYHqLp",
        "outputId": "9d525467-2235-4e38-f78f-637d67a37745"
      },
      "execution_count": 3,
      "outputs": [
        {
          "output_type": "stream",
          "name": "stdout",
          "text": [
            "侍太郎\n"
          ]
        },
        {
          "output_type": "error",
          "ename": "NameError",
          "evalue": "name 'user_name' is not defined",
          "traceback": [
            "\u001b[0;31m---------------------------------------------------------------------------\u001b[0m",
            "\u001b[0;31mNameError\u001b[0m                                 Traceback (most recent call last)",
            "\u001b[0;32m<ipython-input-3-1b255860fdae>\u001b[0m in \u001b[0;36m<cell line: 11>\u001b[0;34m()\u001b[0m\n\u001b[1;32m      9\u001b[0m \u001b[0;34m\u001b[0m\u001b[0m\n\u001b[1;32m     10\u001b[0m \u001b[0;31m# ローカルスコープの範囲外でローカル変数を使う（エラーが発生する）\u001b[0m\u001b[0;34m\u001b[0m\u001b[0;34m\u001b[0m\u001b[0m\n\u001b[0;32m---> 11\u001b[0;31m \u001b[0mprint\u001b[0m\u001b[0;34m(\u001b[0m\u001b[0muser_name\u001b[0m\u001b[0;34m)\u001b[0m\u001b[0;34m\u001b[0m\u001b[0;34m\u001b[0m\u001b[0m\n\u001b[0m",
            "\u001b[0;31mNameError\u001b[0m: name 'user_name' is not defined"
          ]
        }
      ]
    },
    {
      "cell_type": "code",
      "source": [
        "# グローバル変う鵜を定義する\n",
        "user_name = \"侍花子\"\n",
        "\n",
        "def show_user_name():\n",
        "  # ローカル変数を定義する\n",
        "  user_name = \"侍太郎\"\n",
        "\n",
        "  # ローカルスコープの範囲内でローカル変数を使う\n",
        "  print(user_name)\n",
        "\n",
        "show_user_name()\n",
        "\n",
        "# グローバルスコープの範囲内でグローバル変数を使う\n",
        "print(user_name)"
      ],
      "metadata": {
        "colab": {
          "base_uri": "https://localhost:8080/"
        },
        "id": "xIeVkOJuILBf",
        "outputId": "0a400aaf-3f24-40fc-b7f5-d0ffb90ffa9d"
      },
      "execution_count": 8,
      "outputs": [
        {
          "output_type": "stream",
          "name": "stdout",
          "text": [
            "侍太郎\n",
            "侍花子\n"
          ]
        }
      ]
    },
    {
      "cell_type": "code",
      "source": [
        "def total_including_tax(price1, price2, tax):\n",
        "    return (price1 + price2) * (1 + tax)\n",
        "\n",
        "total_including_tax(100, 200, 0.1)"
      ],
      "metadata": {
        "colab": {
          "base_uri": "https://localhost:8080/"
        },
        "id": "GAKf6JapM3ov",
        "outputId": "76c970ff-e44e-4d88-e3ac-e488180006f8"
      },
      "execution_count": 14,
      "outputs": [
        {
          "output_type": "execute_result",
          "data": {
            "text/plain": [
              "330.0"
            ]
          },
          "metadata": {},
          "execution_count": 14
        }
      ]
    }
  ]
}