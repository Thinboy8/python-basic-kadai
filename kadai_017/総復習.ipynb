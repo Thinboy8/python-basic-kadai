{
  "nbformat": 4,
  "nbformat_minor": 0,
  "metadata": {
    "colab": {
      "provenance": []
    },
    "kernelspec": {
      "name": "python3",
      "display_name": "Python 3"
    },
    "language_info": {
      "name": "python"
    }
  },
  "cells": [
    {
      "cell_type": "code",
      "execution_count": 1,
      "metadata": {
        "colab": {
          "base_uri": "https://localhost:8080/"
        },
        "id": "b9WIy7sPwJYT",
        "outputId": "0c1ea811-c7bb-4a18-b04e-b03f2a9181cc"
      },
      "outputs": [
        {
          "output_type": "stream",
          "name": "stdout",
          "text": [
            "太郎はadult\n",
            "次郎はadult\n",
            "三郎はadult\n",
            "四郎はnon-adult\n",
            "花子はnon-adult\n"
          ]
        }
      ],
      "source": [
        "class Human:\n",
        "  def __init__(self, name, age):\n",
        "    self.name = name\n",
        "    self.age = age\n",
        "\n",
        "  def check_adult(self):\n",
        "    if self.age >= 20:\n",
        "      print(f\"{self.name}はadult\")\n",
        "\n",
        "    else:\n",
        "      print(f\"{self.name}はnon-adult\")\n",
        "\n",
        "people = [Human(\"太郎\", 27), Human(\"次郎\", 24), Human(\"三郎\", 21), Human(\"四郎\", 18), Human(\"花子\", 15)]\n",
        "\n",
        "for person in people:\n",
        "    person.check_adult()"
      ]
    }
  ]
}