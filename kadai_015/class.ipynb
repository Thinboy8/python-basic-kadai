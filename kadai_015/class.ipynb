{
  "nbformat": 4,
  "nbformat_minor": 0,
  "metadata": {
    "colab": {
      "provenance": []
    },
    "kernelspec": {
      "name": "python3",
      "display_name": "Python 3"
    },
    "language_info": {
      "name": "python"
    }
  },
  "cells": [
    {
      "cell_type": "code",
      "execution_count": 2,
      "metadata": {
        "colab": {
          "base_uri": "https://localhost:8080/"
        },
        "id": "mKBZcZsGtgM2",
        "outputId": "5a3e3280-ff34-4b6c-dd89-407b62a19089"
      },
      "outputs": [
        {
          "output_type": "stream",
          "name": "stdout",
          "text": [
            "太郎\n",
            "27\n"
          ]
        }
      ],
      "source": [
        "class Human:\n",
        "  def __init__(self):\n",
        "    # 属性を定義する\n",
        "    self.name = \"\"\n",
        "    self.age = \"\"\n",
        "\n",
        "taro = Human()\n",
        "\n",
        "taro.name = \"太郎\"\n",
        "taro.age = 27\n",
        "\n",
        "print(taro.name)\n",
        "print(taro.age)"
      ]
    },
    {
      "cell_type": "code",
      "source": [
        "class Human:\n",
        "  def __init__(self):\n",
        "    self.name = \"\"\n",
        "\n",
        "\n",
        "  # メソッドを定義する\n",
        "  def set_name(self, name):\n",
        "      self.name = name\n",
        "\n",
        "  def show_name(self):\n",
        "    print(self.name)\n",
        "\n",
        "  def set_age(self, age):\n",
        "      self.age = age\n",
        "\n",
        "  def show_age(self):\n",
        "      print(self.age)\n",
        "\n",
        "  def printinfo(self):\n",
        "    print(f\"name: {self.name}, age: {self.age}\")\n",
        "\n",
        "taro = Human()\n",
        "taro.set_name(\"太郎\")\n",
        "taro.show_name()\n",
        "\n",
        "taro.set_age(27)\n",
        "taro.show_age()\n",
        "\n",
        "taro.printinfo()"
      ],
      "metadata": {
        "colab": {
          "base_uri": "https://localhost:8080/"
        },
        "id": "H8j7bNWywKvE",
        "outputId": "803714d6-9149-4881-e210-993ba4141ec4"
      },
      "execution_count": 16,
      "outputs": [
        {
          "output_type": "stream",
          "name": "stdout",
          "text": [
            "太郎\n",
            "27\n",
            "name: 太郎, age: 27\n"
          ]
        }
      ]
    },
    {
      "cell_type": "code",
      "source": [
        "class Human:\n",
        "  def __init__(self):\n",
        "    self.name = \"\"\n",
        "\n",
        "  def set_name(self, name):\n",
        "      self.name = name\n",
        "\n",
        "  def set_age(self, age):\n",
        "      self.age = age\n",
        "\n",
        "  def printinfo(self):\n",
        "    print(f\"name: {self.name}, age: {self.age}\")\n",
        "\n",
        "taro = Human()\n",
        "taro.set_name(\"太郎\")\n",
        "taro.set_age(27)\n",
        "\n",
        "taro.printinfo()"
      ],
      "metadata": {
        "colab": {
          "base_uri": "https://localhost:8080/"
        },
        "id": "zj0E8ugI33R-",
        "outputId": "8ca69873-c7f1-43be-f4c8-321e100b6d5c"
      },
      "execution_count": 23,
      "outputs": [
        {
          "output_type": "stream",
          "name": "stdout",
          "text": [
            "name: 太郎, age: 27\n"
          ]
        }
      ]
    },
    {
      "cell_type": "code",
      "source": [
        "class Human:\n",
        "  def __init__(self, name, age):\n",
        "    self.name = name\n",
        "    self.age = age\n",
        "\n",
        "  def printinfo(self):\n",
        "    print(f\"name: {self.name}, age: {self.age}\")\n",
        "\n",
        "taro = Human(\"太郎\", 27)\n",
        "taro.printinfo()"
      ],
      "metadata": {
        "colab": {
          "base_uri": "https://localhost:8080/"
        },
        "id": "sjH60L6C8X3l",
        "outputId": "d5f0e86a-72de-43a5-a24d-b01874031984"
      },
      "execution_count": 25,
      "outputs": [
        {
          "output_type": "stream",
          "name": "stdout",
          "text": [
            "name: 太郎, age: 27\n"
          ]
        }
      ]
    }
  ]
}